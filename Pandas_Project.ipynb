{
  "nbformat": 4,
  "nbformat_minor": 0,
  "metadata": {
    "kernelspec": {
      "display_name": "Python 3",
      "language": "python",
      "name": "python3"
    },
    "language_info": {
      "codemirror_mode": {
        "name": "ipython",
        "version": 3
      },
      "file_extension": ".py",
      "mimetype": "text/x-python",
      "name": "python",
      "nbconvert_exporter": "python",
      "pygments_lexer": "ipython3",
      "version": "3.7.4"
    },
    "colab": {
      "name": "Pandas Project.ipynb",
      "provenance": [],
      "collapsed_sections": [
        "MVgpdIefX8dN",
        "OsIOS6BbX8dc",
        "BbtsKFbiX8dl",
        "j-O5jxS4X8d0",
        "xE5aRpQ9X8d_",
        "dsqC140yX8eT"
      ],
      "include_colab_link": true
    }
  },
  "cells": [
    {
      "cell_type": "markdown",
      "metadata": {
        "id": "view-in-github",
        "colab_type": "text"
      },
      "source": [
        "<a href=\"https://colab.research.google.com/github/debapriyaroy95/Pandas-Project/blob/master/Pandas_Project.ipynb\" target=\"_parent\"><img src=\"https://colab.research.google.com/assets/colab-badge.svg\" alt=\"Open In Colab\"/></a>"
      ]
    },
    {
      "cell_type": "code",
      "metadata": {
        "id": "NhcAtndcX8cc",
        "colab_type": "code",
        "colab": {}
      },
      "source": [
        "import pandas as pd\n",
        "import os"
      ],
      "execution_count": 0,
      "outputs": []
    },
    {
      "cell_type": "code",
      "metadata": {
        "id": "J3ulw75WX8cj",
        "colab_type": "code",
        "colab": {}
      },
      "source": [
        "all_months_data = pd.DataFrame() "
      ],
      "execution_count": 0,
      "outputs": []
    },
    {
      "cell_type": "markdown",
      "metadata": {
        "id": "Gih7DmobX8cn",
        "colab_type": "text"
      },
      "source": [
        "# How to merge csv files together"
      ]
    },
    {
      "cell_type": "code",
      "metadata": {
        "id": "q4Do8jn1X8co",
        "colab_type": "code",
        "colab": {}
      },
      "source": [
        "files = [ files for files in os.listdir('./sales_data')]\n",
        "   \n",
        "\n",
        "for files in files : \n",
        "    df = pd.read_csv('./sales_data/'+files)\n",
        "    all_months_data = pd.concat([all_months_data,df])\n"
      ],
      "execution_count": 0,
      "outputs": []
    },
    {
      "cell_type": "code",
      "metadata": {
        "id": "22lP9VveX8cr",
        "colab_type": "code",
        "colab": {},
        "outputId": "1fb44b1a-2a5d-45bb-9222-0629749ea19f"
      },
      "source": [
        "all_months_data"
      ],
      "execution_count": 0,
      "outputs": [
        {
          "output_type": "execute_result",
          "data": {
            "text/html": [
              "<div>\n",
              "<style scoped>\n",
              "    .dataframe tbody tr th:only-of-type {\n",
              "        vertical-align: middle;\n",
              "    }\n",
              "\n",
              "    .dataframe tbody tr th {\n",
              "        vertical-align: top;\n",
              "    }\n",
              "\n",
              "    .dataframe thead th {\n",
              "        text-align: right;\n",
              "    }\n",
              "</style>\n",
              "<table border=\"1\" class=\"dataframe\">\n",
              "  <thead>\n",
              "    <tr style=\"text-align: right;\">\n",
              "      <th></th>\n",
              "      <th>Order ID</th>\n",
              "      <th>Product</th>\n",
              "      <th>Quantity Ordered</th>\n",
              "      <th>Price Each</th>\n",
              "      <th>Order Date</th>\n",
              "      <th>Purchase Address</th>\n",
              "      <th>Unnamed: 0</th>\n",
              "    </tr>\n",
              "  </thead>\n",
              "  <tbody>\n",
              "    <tr>\n",
              "      <th>0</th>\n",
              "      <td>295665</td>\n",
              "      <td>Macbook Pro Laptop</td>\n",
              "      <td>1</td>\n",
              "      <td>1700</td>\n",
              "      <td>12/30/19 00:01</td>\n",
              "      <td>136 Church St, New York City, NY 10001</td>\n",
              "      <td>NaN</td>\n",
              "    </tr>\n",
              "    <tr>\n",
              "      <th>1</th>\n",
              "      <td>295666</td>\n",
              "      <td>LG Washing Machine</td>\n",
              "      <td>1</td>\n",
              "      <td>600.0</td>\n",
              "      <td>12/29/19 07:03</td>\n",
              "      <td>562 2nd St, New York City, NY 10001</td>\n",
              "      <td>NaN</td>\n",
              "    </tr>\n",
              "    <tr>\n",
              "      <th>2</th>\n",
              "      <td>295667</td>\n",
              "      <td>USB-C Charging Cable</td>\n",
              "      <td>1</td>\n",
              "      <td>11.95</td>\n",
              "      <td>12/12/19 18:21</td>\n",
              "      <td>277 Main St, New York City, NY 10001</td>\n",
              "      <td>NaN</td>\n",
              "    </tr>\n",
              "    <tr>\n",
              "      <th>3</th>\n",
              "      <td>295668</td>\n",
              "      <td>27in FHD Monitor</td>\n",
              "      <td>1</td>\n",
              "      <td>149.99</td>\n",
              "      <td>12/22/19 15:13</td>\n",
              "      <td>410 6th St, San Francisco, CA 94016</td>\n",
              "      <td>NaN</td>\n",
              "    </tr>\n",
              "    <tr>\n",
              "      <th>4</th>\n",
              "      <td>295669</td>\n",
              "      <td>USB-C Charging Cable</td>\n",
              "      <td>1</td>\n",
              "      <td>11.95</td>\n",
              "      <td>12/18/19 12:38</td>\n",
              "      <td>43 Hill St, Atlanta, GA 30301</td>\n",
              "      <td>NaN</td>\n",
              "    </tr>\n",
              "    <tr>\n",
              "      <th>...</th>\n",
              "      <td>...</td>\n",
              "      <td>...</td>\n",
              "      <td>...</td>\n",
              "      <td>...</td>\n",
              "      <td>...</td>\n",
              "      <td>...</td>\n",
              "      <td>...</td>\n",
              "    </tr>\n",
              "    <tr>\n",
              "      <th>13617</th>\n",
              "      <td>222905</td>\n",
              "      <td>AAA Batteries (4-pack)</td>\n",
              "      <td>1</td>\n",
              "      <td>2.99</td>\n",
              "      <td>06/07/19 19:02</td>\n",
              "      <td>795 Pine St, Boston, MA 02215</td>\n",
              "      <td>NaN</td>\n",
              "    </tr>\n",
              "    <tr>\n",
              "      <th>13618</th>\n",
              "      <td>222906</td>\n",
              "      <td>27in FHD Monitor</td>\n",
              "      <td>1</td>\n",
              "      <td>149.99</td>\n",
              "      <td>06/01/19 19:29</td>\n",
              "      <td>495 North St, New York City, NY 10001</td>\n",
              "      <td>NaN</td>\n",
              "    </tr>\n",
              "    <tr>\n",
              "      <th>13619</th>\n",
              "      <td>222907</td>\n",
              "      <td>USB-C Charging Cable</td>\n",
              "      <td>1</td>\n",
              "      <td>11.95</td>\n",
              "      <td>06/22/19 18:57</td>\n",
              "      <td>319 Ridge St, San Francisco, CA 94016</td>\n",
              "      <td>NaN</td>\n",
              "    </tr>\n",
              "    <tr>\n",
              "      <th>13620</th>\n",
              "      <td>222908</td>\n",
              "      <td>USB-C Charging Cable</td>\n",
              "      <td>1</td>\n",
              "      <td>11.95</td>\n",
              "      <td>06/26/19 18:35</td>\n",
              "      <td>916 Main St, San Francisco, CA 94016</td>\n",
              "      <td>NaN</td>\n",
              "    </tr>\n",
              "    <tr>\n",
              "      <th>13621</th>\n",
              "      <td>222909</td>\n",
              "      <td>AAA Batteries (4-pack)</td>\n",
              "      <td>1</td>\n",
              "      <td>2.99</td>\n",
              "      <td>06/25/19 14:33</td>\n",
              "      <td>209 11th St, Atlanta, GA 30301</td>\n",
              "      <td>NaN</td>\n",
              "    </tr>\n",
              "  </tbody>\n",
              "</table>\n",
              "<p>186852 rows × 7 columns</p>\n",
              "</div>"
            ],
            "text/plain": [
              "      Order ID                 Product Quantity Ordered Price Each  \\\n",
              "0       295665      Macbook Pro Laptop                1       1700   \n",
              "1       295666      LG Washing Machine                1      600.0   \n",
              "2       295667    USB-C Charging Cable                1      11.95   \n",
              "3       295668        27in FHD Monitor                1     149.99   \n",
              "4       295669    USB-C Charging Cable                1      11.95   \n",
              "...        ...                     ...              ...        ...   \n",
              "13617   222905  AAA Batteries (4-pack)                1       2.99   \n",
              "13618   222906        27in FHD Monitor                1     149.99   \n",
              "13619   222907    USB-C Charging Cable                1      11.95   \n",
              "13620   222908    USB-C Charging Cable                1      11.95   \n",
              "13621   222909  AAA Batteries (4-pack)                1       2.99   \n",
              "\n",
              "           Order Date                        Purchase Address  Unnamed: 0  \n",
              "0      12/30/19 00:01  136 Church St, New York City, NY 10001         NaN  \n",
              "1      12/29/19 07:03     562 2nd St, New York City, NY 10001         NaN  \n",
              "2      12/12/19 18:21    277 Main St, New York City, NY 10001         NaN  \n",
              "3      12/22/19 15:13     410 6th St, San Francisco, CA 94016         NaN  \n",
              "4      12/18/19 12:38           43 Hill St, Atlanta, GA 30301         NaN  \n",
              "...               ...                                     ...         ...  \n",
              "13617  06/07/19 19:02           795 Pine St, Boston, MA 02215         NaN  \n",
              "13618  06/01/19 19:29   495 North St, New York City, NY 10001         NaN  \n",
              "13619  06/22/19 18:57   319 Ridge St, San Francisco, CA 94016         NaN  \n",
              "13620  06/26/19 18:35    916 Main St, San Francisco, CA 94016         NaN  \n",
              "13621  06/25/19 14:33          209 11th St, Atlanta, GA 30301         NaN  \n",
              "\n",
              "[186852 rows x 7 columns]"
            ]
          },
          "metadata": {
            "tags": []
          },
          "execution_count": 7
        }
      ]
    },
    {
      "cell_type": "code",
      "metadata": {
        "id": "ntkJv0zVX8cw",
        "colab_type": "code",
        "colab": {}
      },
      "source": [
        "all_months_data.to_csv('all_data.csv',index = False)"
      ],
      "execution_count": 0,
      "outputs": []
    },
    {
      "cell_type": "markdown",
      "metadata": {
        "id": "66zc9vMMX8c0",
        "colab_type": "text"
      },
      "source": [
        "# How to Split .csv file"
      ]
    },
    {
      "cell_type": "code",
      "metadata": {
        "id": "AEzKtMb3X8c1",
        "colab_type": "code",
        "colab": {},
        "outputId": "fd588328-c957-48b6-94f9-1997841398ef"
      },
      "source": [
        "#File Splitting\n",
        "\n",
        "segments = 10\n",
        "len(all_months_data)\n",
        "\n",
        "split_on = int(len(all_months_data)/segments)\n",
        "\n",
        "for i in range(segments) :\n",
        "    start  = i*split_on\n",
        "    end = (i+1)*split_on\n",
        "    print(start,end)\n",
        "    if i == segments-1:\n",
        "        df1 = all_months_data[start:]\n",
        "        \n",
        "    else:\n",
        "        df1 = all_months_data[start:end]\n",
        "    df1.fillna('',inplace=True)\n",
        "    df1.to_csv('A'+'_'+str(i+1)+'.csv',index=False)\n",
        "    "
      ],
      "execution_count": 0,
      "outputs": [
        {
          "output_type": "stream",
          "text": [
            "0 18685\n",
            "18685 37370\n",
            "37370 56055\n"
          ],
          "name": "stdout"
        },
        {
          "output_type": "stream",
          "text": [
            "/opt/miniconda3/lib/python3.7/site-packages/pandas/core/frame.py:4150: SettingWithCopyWarning: \n",
            "A value is trying to be set on a copy of a slice from a DataFrame\n",
            "\n",
            "See the caveats in the documentation: https://pandas.pydata.org/pandas-docs/stable/user_guide/indexing.html#returning-a-view-versus-a-copy\n",
            "  downcast=downcast,\n"
          ],
          "name": "stderr"
        },
        {
          "output_type": "stream",
          "text": [
            "56055 74740\n",
            "74740 93425\n",
            "93425 112110\n",
            "112110 130795\n",
            "130795 149480\n",
            "149480 168165\n",
            "168165 186850\n"
          ],
          "name": "stdout"
        }
      ]
    },
    {
      "cell_type": "code",
      "metadata": {
        "id": "3OHLy6JMX8c5",
        "colab_type": "code",
        "colab": {},
        "outputId": "20a4c224-579a-4502-df23-2e63cfe6e30e"
      },
      "source": [
        "all_months_data.head()"
      ],
      "execution_count": 0,
      "outputs": [
        {
          "output_type": "execute_result",
          "data": {
            "text/html": [
              "<div>\n",
              "<style scoped>\n",
              "    .dataframe tbody tr th:only-of-type {\n",
              "        vertical-align: middle;\n",
              "    }\n",
              "\n",
              "    .dataframe tbody tr th {\n",
              "        vertical-align: top;\n",
              "    }\n",
              "\n",
              "    .dataframe thead th {\n",
              "        text-align: right;\n",
              "    }\n",
              "</style>\n",
              "<table border=\"1\" class=\"dataframe\">\n",
              "  <thead>\n",
              "    <tr style=\"text-align: right;\">\n",
              "      <th></th>\n",
              "      <th>Order ID</th>\n",
              "      <th>Product</th>\n",
              "      <th>Quantity Ordered</th>\n",
              "      <th>Price Each</th>\n",
              "      <th>Order Date</th>\n",
              "      <th>Purchase Address</th>\n",
              "      <th>Unnamed: 0</th>\n",
              "    </tr>\n",
              "  </thead>\n",
              "  <tbody>\n",
              "    <tr>\n",
              "      <th>0</th>\n",
              "      <td>295665</td>\n",
              "      <td>Macbook Pro Laptop</td>\n",
              "      <td>1</td>\n",
              "      <td>1700</td>\n",
              "      <td>12/30/19 00:01</td>\n",
              "      <td>136 Church St, New York City, NY 10001</td>\n",
              "      <td>NaN</td>\n",
              "    </tr>\n",
              "    <tr>\n",
              "      <th>1</th>\n",
              "      <td>295666</td>\n",
              "      <td>LG Washing Machine</td>\n",
              "      <td>1</td>\n",
              "      <td>600.0</td>\n",
              "      <td>12/29/19 07:03</td>\n",
              "      <td>562 2nd St, New York City, NY 10001</td>\n",
              "      <td>NaN</td>\n",
              "    </tr>\n",
              "    <tr>\n",
              "      <th>2</th>\n",
              "      <td>295667</td>\n",
              "      <td>USB-C Charging Cable</td>\n",
              "      <td>1</td>\n",
              "      <td>11.95</td>\n",
              "      <td>12/12/19 18:21</td>\n",
              "      <td>277 Main St, New York City, NY 10001</td>\n",
              "      <td>NaN</td>\n",
              "    </tr>\n",
              "    <tr>\n",
              "      <th>3</th>\n",
              "      <td>295668</td>\n",
              "      <td>27in FHD Monitor</td>\n",
              "      <td>1</td>\n",
              "      <td>149.99</td>\n",
              "      <td>12/22/19 15:13</td>\n",
              "      <td>410 6th St, San Francisco, CA 94016</td>\n",
              "      <td>NaN</td>\n",
              "    </tr>\n",
              "    <tr>\n",
              "      <th>4</th>\n",
              "      <td>295669</td>\n",
              "      <td>USB-C Charging Cable</td>\n",
              "      <td>1</td>\n",
              "      <td>11.95</td>\n",
              "      <td>12/18/19 12:38</td>\n",
              "      <td>43 Hill St, Atlanta, GA 30301</td>\n",
              "      <td>NaN</td>\n",
              "    </tr>\n",
              "  </tbody>\n",
              "</table>\n",
              "</div>"
            ],
            "text/plain": [
              "  Order ID               Product Quantity Ordered Price Each      Order Date  \\\n",
              "0   295665    Macbook Pro Laptop                1       1700  12/30/19 00:01   \n",
              "1   295666    LG Washing Machine                1      600.0  12/29/19 07:03   \n",
              "2   295667  USB-C Charging Cable                1      11.95  12/12/19 18:21   \n",
              "3   295668      27in FHD Monitor                1     149.99  12/22/19 15:13   \n",
              "4   295669  USB-C Charging Cable                1      11.95  12/18/19 12:38   \n",
              "\n",
              "                         Purchase Address  Unnamed: 0  \n",
              "0  136 Church St, New York City, NY 10001         NaN  \n",
              "1     562 2nd St, New York City, NY 10001         NaN  \n",
              "2    277 Main St, New York City, NY 10001         NaN  \n",
              "3     410 6th St, San Francisco, CA 94016         NaN  \n",
              "4           43 Hill St, Atlanta, GA 30301         NaN  "
            ]
          },
          "metadata": {
            "tags": []
          },
          "execution_count": 10
        }
      ]
    },
    {
      "cell_type": "markdown",
      "metadata": {
        "id": "85v6QnOIX8c8",
        "colab_type": "text"
      },
      "source": [
        "# Best Month for sale ? How much was earned that month ?"
      ]
    },
    {
      "cell_type": "markdown",
      "metadata": {
        "id": "gnHGMNpNX8c9",
        "colab_type": "text"
      },
      "source": [
        "# Cleaning The Data and deleting null rows"
      ]
    },
    {
      "cell_type": "code",
      "metadata": {
        "id": "JzebLClEX8c-",
        "colab_type": "code",
        "colab": {}
      },
      "source": [
        "#Reading the csv \n",
        "all_data = pd.read_csv('all_data.csv')\n",
        "\n",
        "del all_data['Unnamed: 0']"
      ],
      "execution_count": 0,
      "outputs": []
    },
    {
      "cell_type": "code",
      "metadata": {
        "id": "_-sFEAORX8dD",
        "colab_type": "code",
        "colab": {}
      },
      "source": [
        "all_nulls = all_data[all_data.isna().any(axis=1)]\n",
        "all_nulls.head()\n",
        "\n",
        "all_data = all_data.dropna(how = 'any')"
      ],
      "execution_count": 0,
      "outputs": []
    },
    {
      "cell_type": "code",
      "metadata": {
        "id": "X97RhxxVX8dH",
        "colab_type": "code",
        "colab": {},
        "outputId": "2a9e712d-ec3b-446e-f6c9-876e726578b4"
      },
      "source": [
        "all_data.isnull().sum()"
      ],
      "execution_count": 0,
      "outputs": [
        {
          "output_type": "execute_result",
          "data": {
            "text/plain": [
              "Order ID            0\n",
              "Product             0\n",
              "Quantity Ordered    0\n",
              "Price Each          0\n",
              "Order Date          0\n",
              "Purchase Address    0\n",
              "dtype: int64"
            ]
          },
          "metadata": {
            "tags": []
          },
          "execution_count": 32
        }
      ]
    },
    {
      "cell_type": "code",
      "metadata": {
        "id": "rSMubiXXX8dK",
        "colab_type": "code",
        "colab": {},
        "outputId": "79f02ace-7d58-4315-b27e-992843b2c024"
      },
      "source": [
        "all_data.columns"
      ],
      "execution_count": 0,
      "outputs": [
        {
          "output_type": "execute_result",
          "data": {
            "text/plain": [
              "Index(['Order ID', 'Product', 'Quantity Ordered', 'Price Each', 'Order Date',\n",
              "       'Purchase Address', 'Unnamed: 0'],\n",
              "      dtype='object')"
            ]
          },
          "metadata": {
            "tags": []
          },
          "execution_count": 26
        }
      ]
    },
    {
      "cell_type": "markdown",
      "metadata": {
        "id": "MVgpdIefX8dN",
        "colab_type": "text"
      },
      "source": [
        "\n",
        "# Extracting the Month Column "
      ]
    },
    {
      "cell_type": "code",
      "metadata": {
        "id": "povKz3iGX8dO",
        "colab_type": "code",
        "colab": {}
      },
      "source": [
        "all_data['Month'] = all_data['Order Date'].str[:2]\n",
        "all_data['Month'] = all_data.Month.apply(int)"
      ],
      "execution_count": 0,
      "outputs": []
    },
    {
      "cell_type": "code",
      "metadata": {
        "id": "1qiMWj3iX8dQ",
        "colab_type": "code",
        "colab": {}
      },
      "source": [
        "#some data have \"or\" in month segment\n",
        "\n",
        "all_data = all_data[all_data['Order Date'].str[:2]!='Or']"
      ],
      "execution_count": 0,
      "outputs": []
    },
    {
      "cell_type": "code",
      "metadata": {
        "id": "ybk-tygbX8dU",
        "colab_type": "code",
        "colab": {},
        "outputId": "ec93c000-d5b9-4487-ee58-403b64f4ee1b"
      },
      "source": [
        "all_data['Month'] = all_data['Order Date'].str[:2]\n",
        "all_data['Month'] = all_data.Month.astype('int32')\n",
        "all_data.head()"
      ],
      "execution_count": 0,
      "outputs": [
        {
          "output_type": "stream",
          "text": [
            "/opt/miniconda3/lib/python3.7/site-packages/ipykernel_launcher.py:1: SettingWithCopyWarning: \n",
            "A value is trying to be set on a copy of a slice from a DataFrame.\n",
            "Try using .loc[row_indexer,col_indexer] = value instead\n",
            "\n",
            "See the caveats in the documentation: https://pandas.pydata.org/pandas-docs/stable/user_guide/indexing.html#returning-a-view-versus-a-copy\n",
            "  \"\"\"Entry point for launching an IPython kernel.\n",
            "/opt/miniconda3/lib/python3.7/site-packages/ipykernel_launcher.py:2: SettingWithCopyWarning: \n",
            "A value is trying to be set on a copy of a slice from a DataFrame.\n",
            "Try using .loc[row_indexer,col_indexer] = value instead\n",
            "\n",
            "See the caveats in the documentation: https://pandas.pydata.org/pandas-docs/stable/user_guide/indexing.html#returning-a-view-versus-a-copy\n",
            "  \n"
          ],
          "name": "stderr"
        },
        {
          "output_type": "execute_result",
          "data": {
            "text/html": [
              "<div>\n",
              "<style scoped>\n",
              "    .dataframe tbody tr th:only-of-type {\n",
              "        vertical-align: middle;\n",
              "    }\n",
              "\n",
              "    .dataframe tbody tr th {\n",
              "        vertical-align: top;\n",
              "    }\n",
              "\n",
              "    .dataframe thead th {\n",
              "        text-align: right;\n",
              "    }\n",
              "</style>\n",
              "<table border=\"1\" class=\"dataframe\">\n",
              "  <thead>\n",
              "    <tr style=\"text-align: right;\">\n",
              "      <th></th>\n",
              "      <th>Order ID</th>\n",
              "      <th>Product</th>\n",
              "      <th>Quantity Ordered</th>\n",
              "      <th>Price Each</th>\n",
              "      <th>Order Date</th>\n",
              "      <th>Purchase Address</th>\n",
              "      <th>Month</th>\n",
              "    </tr>\n",
              "  </thead>\n",
              "  <tbody>\n",
              "    <tr>\n",
              "      <th>0</th>\n",
              "      <td>295665</td>\n",
              "      <td>Macbook Pro Laptop</td>\n",
              "      <td>1</td>\n",
              "      <td>1700</td>\n",
              "      <td>12/30/19 00:01</td>\n",
              "      <td>136 Church St, New York City, NY 10001</td>\n",
              "      <td>12</td>\n",
              "    </tr>\n",
              "    <tr>\n",
              "      <th>1</th>\n",
              "      <td>295666</td>\n",
              "      <td>LG Washing Machine</td>\n",
              "      <td>1</td>\n",
              "      <td>600.0</td>\n",
              "      <td>12/29/19 07:03</td>\n",
              "      <td>562 2nd St, New York City, NY 10001</td>\n",
              "      <td>12</td>\n",
              "    </tr>\n",
              "    <tr>\n",
              "      <th>2</th>\n",
              "      <td>295667</td>\n",
              "      <td>USB-C Charging Cable</td>\n",
              "      <td>1</td>\n",
              "      <td>11.95</td>\n",
              "      <td>12/12/19 18:21</td>\n",
              "      <td>277 Main St, New York City, NY 10001</td>\n",
              "      <td>12</td>\n",
              "    </tr>\n",
              "    <tr>\n",
              "      <th>3</th>\n",
              "      <td>295668</td>\n",
              "      <td>27in FHD Monitor</td>\n",
              "      <td>1</td>\n",
              "      <td>149.99</td>\n",
              "      <td>12/22/19 15:13</td>\n",
              "      <td>410 6th St, San Francisco, CA 94016</td>\n",
              "      <td>12</td>\n",
              "    </tr>\n",
              "    <tr>\n",
              "      <th>4</th>\n",
              "      <td>295669</td>\n",
              "      <td>USB-C Charging Cable</td>\n",
              "      <td>1</td>\n",
              "      <td>11.95</td>\n",
              "      <td>12/18/19 12:38</td>\n",
              "      <td>43 Hill St, Atlanta, GA 30301</td>\n",
              "      <td>12</td>\n",
              "    </tr>\n",
              "  </tbody>\n",
              "</table>\n",
              "</div>"
            ],
            "text/plain": [
              "  Order ID               Product Quantity Ordered Price Each      Order Date  \\\n",
              "0   295665    Macbook Pro Laptop                1       1700  12/30/19 00:01   \n",
              "1   295666    LG Washing Machine                1      600.0  12/29/19 07:03   \n",
              "2   295667  USB-C Charging Cable                1      11.95  12/12/19 18:21   \n",
              "3   295668      27in FHD Monitor                1     149.99  12/22/19 15:13   \n",
              "4   295669  USB-C Charging Cable                1      11.95  12/18/19 12:38   \n",
              "\n",
              "                         Purchase Address  Month  \n",
              "0  136 Church St, New York City, NY 10001     12  \n",
              "1     562 2nd St, New York City, NY 10001     12  \n",
              "2    277 Main St, New York City, NY 10001     12  \n",
              "3     410 6th St, San Francisco, CA 94016     12  \n",
              "4           43 Hill St, Atlanta, GA 30301     12  "
            ]
          },
          "metadata": {
            "tags": []
          },
          "execution_count": 63
        }
      ]
    },
    {
      "cell_type": "code",
      "metadata": {
        "id": "lLJfE8rTX8dY",
        "colab_type": "code",
        "colab": {},
        "outputId": "800b2044-0d07-4ff1-a97c-ca6dab4840f8"
      },
      "source": [
        "all_data.dtypes"
      ],
      "execution_count": 0,
      "outputs": [
        {
          "output_type": "execute_result",
          "data": {
            "text/plain": [
              "Order ID            object\n",
              "Product             object\n",
              "Quantity Ordered    object\n",
              "Price Each          object\n",
              "Order Date          object\n",
              "Purchase Address    object\n",
              "Month                int32\n",
              "dtype: object"
            ]
          },
          "metadata": {
            "tags": []
          },
          "execution_count": 64
        }
      ]
    },
    {
      "cell_type": "markdown",
      "metadata": {
        "id": "OsIOS6BbX8dc",
        "colab_type": "text"
      },
      "source": [
        "# Adding a Sales Column :"
      ]
    },
    {
      "cell_type": "code",
      "metadata": {
        "id": "spF9ilyFX8dd",
        "colab_type": "code",
        "colab": {},
        "outputId": "db2e090d-51b6-4a0a-e7ba-7830dbfa1c34"
      },
      "source": [
        "all_data['Price Each'] = all_data['Price Each'].astype('float')\n",
        "all_data['Quantity Ordered'] = all_data['Quantity Ordered'].astype('int32')\n",
        "\n",
        "all_data.dtypes\n",
        "\n",
        "all_data['Sales'] = all_data['Price Each']*all_data['Quantity Ordered']"
      ],
      "execution_count": 0,
      "outputs": [
        {
          "output_type": "stream",
          "text": [
            "/opt/miniconda3/lib/python3.7/site-packages/ipykernel_launcher.py:1: SettingWithCopyWarning: \n",
            "A value is trying to be set on a copy of a slice from a DataFrame.\n",
            "Try using .loc[row_indexer,col_indexer] = value instead\n",
            "\n",
            "See the caveats in the documentation: https://pandas.pydata.org/pandas-docs/stable/user_guide/indexing.html#returning-a-view-versus-a-copy\n",
            "  \"\"\"Entry point for launching an IPython kernel.\n",
            "/opt/miniconda3/lib/python3.7/site-packages/ipykernel_launcher.py:2: SettingWithCopyWarning: \n",
            "A value is trying to be set on a copy of a slice from a DataFrame.\n",
            "Try using .loc[row_indexer,col_indexer] = value instead\n",
            "\n",
            "See the caveats in the documentation: https://pandas.pydata.org/pandas-docs/stable/user_guide/indexing.html#returning-a-view-versus-a-copy\n",
            "  \n",
            "/opt/miniconda3/lib/python3.7/site-packages/ipykernel_launcher.py:6: SettingWithCopyWarning: \n",
            "A value is trying to be set on a copy of a slice from a DataFrame.\n",
            "Try using .loc[row_indexer,col_indexer] = value instead\n",
            "\n",
            "See the caveats in the documentation: https://pandas.pydata.org/pandas-docs/stable/user_guide/indexing.html#returning-a-view-versus-a-copy\n",
            "  \n"
          ],
          "name": "stderr"
        }
      ]
    },
    {
      "cell_type": "code",
      "metadata": {
        "id": "R3elSiWxX8df",
        "colab_type": "code",
        "colab": {},
        "outputId": "197bfd64-1f3e-48db-b7e5-b11f08c55b1a"
      },
      "source": [
        "#Best Month\n",
        "\n",
        "all_data.groupby(['Month']).sum().sort_values('Sales',ascending = False).index[0]"
      ],
      "execution_count": 0,
      "outputs": [
        {
          "output_type": "execute_result",
          "data": {
            "text/plain": [
              "12"
            ]
          },
          "metadata": {
            "tags": []
          },
          "execution_count": 81
        }
      ]
    },
    {
      "cell_type": "code",
      "metadata": {
        "id": "uVgMKCw-X8di",
        "colab_type": "code",
        "colab": {},
        "outputId": "72f68c02-f952-4e31-9238-a1e4587199ca"
      },
      "source": [
        "results = all_data.groupby(['Month']).sum()\n",
        "months = range(1,13)\n",
        "\n",
        "import matplotlib.pyplot as plt\n",
        "\n",
        "plt.bar(months,results['Sales'],color = 'green',linewidth=2,edgecolor = 'darkgreen')\n",
        "plt.grid()\n",
        "plt.xticks(months)\n",
        "plt.xlabel('Month Numbers')\n",
        "plt.ylabel('Sales in USD ($)')\n",
        "plt.title('Sales in every Month for the year-2019')\n",
        "plt.show()"
      ],
      "execution_count": 0,
      "outputs": [
        {
          "output_type": "display_data",
          "data": {
            "image/png": "[encoded data removed]",
            "text/plain": [
              "<Figure size 432x288 with 1 Axes>"
            ]
          },
          "metadata": {
            "tags": [],
            "needs_background": "light"
          }
        }
      ]
    },
    {
      "cell_type": "markdown",
      "metadata": {
        "id": "BbtsKFbiX8dl",
        "colab_type": "text"
      },
      "source": [
        "# Which City has the highest Number of Sales ??"
      ]
    },
    {
      "cell_type": "code",
      "metadata": {
        "id": "YXJLtGAGX8dn",
        "colab_type": "code",
        "colab": {},
        "outputId": "4fba23b6-d63e-4b54-febc-0acb2c956b36"
      },
      "source": [
        "all_data"
      ],
      "execution_count": 0,
      "outputs": [
        {
          "output_type": "execute_result",
          "data": {
            "text/html": [
              "<div>\n",
              "<style scoped>\n",
              "    .dataframe tbody tr th:only-of-type {\n",
              "        vertical-align: middle;\n",
              "    }\n",
              "\n",
              "    .dataframe tbody tr th {\n",
              "        vertical-align: top;\n",
              "    }\n",
              "\n",
              "    .dataframe thead th {\n",
              "        text-align: right;\n",
              "    }\n",
              "</style>\n",
              "<table border=\"1\" class=\"dataframe\">\n",
              "  <thead>\n",
              "    <tr style=\"text-align: right;\">\n",
              "      <th></th>\n",
              "      <th>Order ID</th>\n",
              "      <th>Product</th>\n",
              "      <th>Quantity Ordered</th>\n",
              "      <th>Price Each</th>\n",
              "      <th>Order Date</th>\n",
              "      <th>Purchase Address</th>\n",
              "      <th>Month</th>\n",
              "      <th>Sales</th>\n",
              "    </tr>\n",
              "  </thead>\n",
              "  <tbody>\n",
              "    <tr>\n",
              "      <th>0</th>\n",
              "      <td>295665</td>\n",
              "      <td>Macbook Pro Laptop</td>\n",
              "      <td>1</td>\n",
              "      <td>1700.00</td>\n",
              "      <td>12/30/19 00:01</td>\n",
              "      <td>136 Church St, New York City, NY 10001</td>\n",
              "      <td>12</td>\n",
              "      <td>1700.00</td>\n",
              "    </tr>\n",
              "    <tr>\n",
              "      <th>1</th>\n",
              "      <td>295666</td>\n",
              "      <td>LG Washing Machine</td>\n",
              "      <td>1</td>\n",
              "      <td>600.00</td>\n",
              "      <td>12/29/19 07:03</td>\n",
              "      <td>562 2nd St, New York City, NY 10001</td>\n",
              "      <td>12</td>\n",
              "      <td>600.00</td>\n",
              "    </tr>\n",
              "    <tr>\n",
              "      <th>2</th>\n",
              "      <td>295667</td>\n",
              "      <td>USB-C Charging Cable</td>\n",
              "      <td>1</td>\n",
              "      <td>11.95</td>\n",
              "      <td>12/12/19 18:21</td>\n",
              "      <td>277 Main St, New York City, NY 10001</td>\n",
              "      <td>12</td>\n",
              "      <td>11.95</td>\n",
              "    </tr>\n",
              "    <tr>\n",
              "      <th>3</th>\n",
              "      <td>295668</td>\n",
              "      <td>27in FHD Monitor</td>\n",
              "      <td>1</td>\n",
              "      <td>149.99</td>\n",
              "      <td>12/22/19 15:13</td>\n",
              "      <td>410 6th St, San Francisco, CA 94016</td>\n",
              "      <td>12</td>\n",
              "      <td>149.99</td>\n",
              "    </tr>\n",
              "    <tr>\n",
              "      <th>4</th>\n",
              "      <td>295669</td>\n",
              "      <td>USB-C Charging Cable</td>\n",
              "      <td>1</td>\n",
              "      <td>11.95</td>\n",
              "      <td>12/18/19 12:38</td>\n",
              "      <td>43 Hill St, Atlanta, GA 30301</td>\n",
              "      <td>12</td>\n",
              "      <td>11.95</td>\n",
              "    </tr>\n",
              "    <tr>\n",
              "      <th>...</th>\n",
              "      <td>...</td>\n",
              "      <td>...</td>\n",
              "      <td>...</td>\n",
              "      <td>...</td>\n",
              "      <td>...</td>\n",
              "      <td>...</td>\n",
              "      <td>...</td>\n",
              "      <td>...</td>\n",
              "    </tr>\n",
              "    <tr>\n",
              "      <th>186847</th>\n",
              "      <td>222905</td>\n",
              "      <td>AAA Batteries (4-pack)</td>\n",
              "      <td>1</td>\n",
              "      <td>2.99</td>\n",
              "      <td>06/07/19 19:02</td>\n",
              "      <td>795 Pine St, Boston, MA 02215</td>\n",
              "      <td>6</td>\n",
              "      <td>2.99</td>\n",
              "    </tr>\n",
              "    <tr>\n",
              "      <th>186848</th>\n",
              "      <td>222906</td>\n",
              "      <td>27in FHD Monitor</td>\n",
              "      <td>1</td>\n",
              "      <td>149.99</td>\n",
              "      <td>06/01/19 19:29</td>\n",
              "      <td>495 North St, New York City, NY 10001</td>\n",
              "      <td>6</td>\n",
              "      <td>149.99</td>\n",
              "    </tr>\n",
              "    <tr>\n",
              "      <th>186849</th>\n",
              "      <td>222907</td>\n",
              "      <td>USB-C Charging Cable</td>\n",
              "      <td>1</td>\n",
              "      <td>11.95</td>\n",
              "      <td>06/22/19 18:57</td>\n",
              "      <td>319 Ridge St, San Francisco, CA 94016</td>\n",
              "      <td>6</td>\n",
              "      <td>11.95</td>\n",
              "    </tr>\n",
              "    <tr>\n",
              "      <th>186850</th>\n",
              "      <td>222908</td>\n",
              "      <td>USB-C Charging Cable</td>\n",
              "      <td>1</td>\n",
              "      <td>11.95</td>\n",
              "      <td>06/26/19 18:35</td>\n",
              "      <td>916 Main St, San Francisco, CA 94016</td>\n",
              "      <td>6</td>\n",
              "      <td>11.95</td>\n",
              "    </tr>\n",
              "    <tr>\n",
              "      <th>186851</th>\n",
              "      <td>222909</td>\n",
              "      <td>AAA Batteries (4-pack)</td>\n",
              "      <td>1</td>\n",
              "      <td>2.99</td>\n",
              "      <td>06/25/19 14:33</td>\n",
              "      <td>209 11th St, Atlanta, GA 30301</td>\n",
              "      <td>6</td>\n",
              "      <td>2.99</td>\n",
              "    </tr>\n",
              "  </tbody>\n",
              "</table>\n",
              "<p>185950 rows × 8 columns</p>\n",
              "</div>"
            ],
            "text/plain": [
              "       Order ID                 Product  Quantity Ordered  Price Each  \\\n",
              "0        295665      Macbook Pro Laptop                 1     1700.00   \n",
              "1        295666      LG Washing Machine                 1      600.00   \n",
              "2        295667    USB-C Charging Cable                 1       11.95   \n",
              "3        295668        27in FHD Monitor                 1      149.99   \n",
              "4        295669    USB-C Charging Cable                 1       11.95   \n",
              "...         ...                     ...               ...         ...   \n",
              "186847   222905  AAA Batteries (4-pack)                 1        2.99   \n",
              "186848   222906        27in FHD Monitor                 1      149.99   \n",
              "186849   222907    USB-C Charging Cable                 1       11.95   \n",
              "186850   222908    USB-C Charging Cable                 1       11.95   \n",
              "186851   222909  AAA Batteries (4-pack)                 1        2.99   \n",
              "\n",
              "            Order Date                        Purchase Address  Month    Sales  \n",
              "0       12/30/19 00:01  136 Church St, New York City, NY 10001     12  1700.00  \n",
              "1       12/29/19 07:03     562 2nd St, New York City, NY 10001     12   600.00  \n",
              "2       12/12/19 18:21    277 Main St, New York City, NY 10001     12    11.95  \n",
              "3       12/22/19 15:13     410 6th St, San Francisco, CA 94016     12   149.99  \n",
              "4       12/18/19 12:38           43 Hill St, Atlanta, GA 30301     12    11.95  \n",
              "...                ...                                     ...    ...      ...  \n",
              "186847  06/07/19 19:02           795 Pine St, Boston, MA 02215      6     2.99  \n",
              "186848  06/01/19 19:29   495 North St, New York City, NY 10001      6   149.99  \n",
              "186849  06/22/19 18:57   319 Ridge St, San Francisco, CA 94016      6    11.95  \n",
              "186850  06/26/19 18:35    916 Main St, San Francisco, CA 94016      6    11.95  \n",
              "186851  06/25/19 14:33          209 11th St, Atlanta, GA 30301      6     2.99  \n",
              "\n",
              "[185950 rows x 8 columns]"
            ]
          },
          "metadata": {
            "tags": []
          },
          "execution_count": 99
        }
      ]
    },
    {
      "cell_type": "code",
      "metadata": {
        "id": "c5Av71OIX8dq",
        "colab_type": "code",
        "colab": {},
        "outputId": "d9a3d49c-6b60-48cd-9d07-b3f5bf466e81"
      },
      "source": [
        "all_data['Country_Code'] = all_data['Purchase Address'].str[-9:-6]\n",
        "\n",
        "# To check which city has the maximum entry\n",
        "all_data['Country_Code'].value_counts().sort_values()\n",
        "\n",
        "all_data['City'] = all_data['Purchase Address'].apply(lambda x : x.split(',')[1])\n",
        "\n",
        "all_data['City_And_Country'] = all_data['City'] + ' (' + all_data['Country_Code'] + ')'\n",
        "\n",
        "all_data.head()"
      ],
      "execution_count": 0,
      "outputs": [
        {
          "output_type": "stream",
          "text": [
            "/opt/miniconda3/lib/python3.7/site-packages/ipykernel_launcher.py:1: SettingWithCopyWarning: \n",
            "A value is trying to be set on a copy of a slice from a DataFrame.\n",
            "Try using .loc[row_indexer,col_indexer] = value instead\n",
            "\n",
            "See the caveats in the documentation: https://pandas.pydata.org/pandas-docs/stable/user_guide/indexing.html#returning-a-view-versus-a-copy\n",
            "  \"\"\"Entry point for launching an IPython kernel.\n",
            "/opt/miniconda3/lib/python3.7/site-packages/ipykernel_launcher.py:6: SettingWithCopyWarning: \n",
            "A value is trying to be set on a copy of a slice from a DataFrame.\n",
            "Try using .loc[row_indexer,col_indexer] = value instead\n",
            "\n",
            "See the caveats in the documentation: https://pandas.pydata.org/pandas-docs/stable/user_guide/indexing.html#returning-a-view-versus-a-copy\n",
            "  \n",
            "/opt/miniconda3/lib/python3.7/site-packages/ipykernel_launcher.py:8: SettingWithCopyWarning: \n",
            "A value is trying to be set on a copy of a slice from a DataFrame.\n",
            "Try using .loc[row_indexer,col_indexer] = value instead\n",
            "\n",
            "See the caveats in the documentation: https://pandas.pydata.org/pandas-docs/stable/user_guide/indexing.html#returning-a-view-versus-a-copy\n",
            "  \n"
          ],
          "name": "stderr"
        },
        {
          "output_type": "execute_result",
          "data": {
            "text/html": [
              "<div>\n",
              "<style scoped>\n",
              "    .dataframe tbody tr th:only-of-type {\n",
              "        vertical-align: middle;\n",
              "    }\n",
              "\n",
              "    .dataframe tbody tr th {\n",
              "        vertical-align: top;\n",
              "    }\n",
              "\n",
              "    .dataframe thead th {\n",
              "        text-align: right;\n",
              "    }\n",
              "</style>\n",
              "<table border=\"1\" class=\"dataframe\">\n",
              "  <thead>\n",
              "    <tr style=\"text-align: right;\">\n",
              "      <th></th>\n",
              "      <th>Order ID</th>\n",
              "      <th>Product</th>\n",
              "      <th>Quantity Ordered</th>\n",
              "      <th>Price Each</th>\n",
              "      <th>Order Date</th>\n",
              "      <th>Purchase Address</th>\n",
              "      <th>Month</th>\n",
              "      <th>Sales</th>\n",
              "      <th>City_Code</th>\n",
              "      <th>Country_Code</th>\n",
              "      <th>City</th>\n",
              "      <th>City_And_Country</th>\n",
              "    </tr>\n",
              "  </thead>\n",
              "  <tbody>\n",
              "    <tr>\n",
              "      <th>0</th>\n",
              "      <td>295665</td>\n",
              "      <td>Macbook Pro Laptop</td>\n",
              "      <td>1</td>\n",
              "      <td>1700.00</td>\n",
              "      <td>12/30/19 00:01</td>\n",
              "      <td>136 Church St, New York City, NY 10001</td>\n",
              "      <td>12</td>\n",
              "      <td>1700.00</td>\n",
              "      <td>NY</td>\n",
              "      <td>NY</td>\n",
              "      <td>New York City</td>\n",
              "      <td>New York City ( NY)</td>\n",
              "    </tr>\n",
              "    <tr>\n",
              "      <th>1</th>\n",
              "      <td>295666</td>\n",
              "      <td>LG Washing Machine</td>\n",
              "      <td>1</td>\n",
              "      <td>600.00</td>\n",
              "      <td>12/29/19 07:03</td>\n",
              "      <td>562 2nd St, New York City, NY 10001</td>\n",
              "      <td>12</td>\n",
              "      <td>600.00</td>\n",
              "      <td>NY</td>\n",
              "      <td>NY</td>\n",
              "      <td>New York City</td>\n",
              "      <td>New York City ( NY)</td>\n",
              "    </tr>\n",
              "    <tr>\n",
              "      <th>2</th>\n",
              "      <td>295667</td>\n",
              "      <td>USB-C Charging Cable</td>\n",
              "      <td>1</td>\n",
              "      <td>11.95</td>\n",
              "      <td>12/12/19 18:21</td>\n",
              "      <td>277 Main St, New York City, NY 10001</td>\n",
              "      <td>12</td>\n",
              "      <td>11.95</td>\n",
              "      <td>NY</td>\n",
              "      <td>NY</td>\n",
              "      <td>New York City</td>\n",
              "      <td>New York City ( NY)</td>\n",
              "    </tr>\n",
              "    <tr>\n",
              "      <th>3</th>\n",
              "      <td>295668</td>\n",
              "      <td>27in FHD Monitor</td>\n",
              "      <td>1</td>\n",
              "      <td>149.99</td>\n",
              "      <td>12/22/19 15:13</td>\n",
              "      <td>410 6th St, San Francisco, CA 94016</td>\n",
              "      <td>12</td>\n",
              "      <td>149.99</td>\n",
              "      <td>CA</td>\n",
              "      <td>CA</td>\n",
              "      <td>San Francisco</td>\n",
              "      <td>San Francisco ( CA)</td>\n",
              "    </tr>\n",
              "    <tr>\n",
              "      <th>4</th>\n",
              "      <td>295669</td>\n",
              "      <td>USB-C Charging Cable</td>\n",
              "      <td>1</td>\n",
              "      <td>11.95</td>\n",
              "      <td>12/18/19 12:38</td>\n",
              "      <td>43 Hill St, Atlanta, GA 30301</td>\n",
              "      <td>12</td>\n",
              "      <td>11.95</td>\n",
              "      <td>GA</td>\n",
              "      <td>GA</td>\n",
              "      <td>Atlanta</td>\n",
              "      <td>Atlanta ( GA)</td>\n",
              "    </tr>\n",
              "  </tbody>\n",
              "</table>\n",
              "</div>"
            ],
            "text/plain": [
              "  Order ID               Product  Quantity Ordered  Price Each  \\\n",
              "0   295665    Macbook Pro Laptop                 1     1700.00   \n",
              "1   295666    LG Washing Machine                 1      600.00   \n",
              "2   295667  USB-C Charging Cable                 1       11.95   \n",
              "3   295668      27in FHD Monitor                 1      149.99   \n",
              "4   295669  USB-C Charging Cable                 1       11.95   \n",
              "\n",
              "       Order Date                        Purchase Address  Month    Sales  \\\n",
              "0  12/30/19 00:01  136 Church St, New York City, NY 10001     12  1700.00   \n",
              "1  12/29/19 07:03     562 2nd St, New York City, NY 10001     12   600.00   \n",
              "2  12/12/19 18:21    277 Main St, New York City, NY 10001     12    11.95   \n",
              "3  12/22/19 15:13     410 6th St, San Francisco, CA 94016     12   149.99   \n",
              "4  12/18/19 12:38           43 Hill St, Atlanta, GA 30301     12    11.95   \n",
              "\n",
              "  City_Code Country_Code            City      City_And_Country  \n",
              "0        NY           NY   New York City   New York City ( NY)  \n",
              "1        NY           NY   New York City   New York City ( NY)  \n",
              "2        NY           NY   New York City   New York City ( NY)  \n",
              "3        CA           CA   San Francisco   San Francisco ( CA)  \n",
              "4        GA           GA         Atlanta         Atlanta ( GA)  "
            ]
          },
          "metadata": {
            "tags": []
          },
          "execution_count": 140
        }
      ]
    },
    {
      "cell_type": "code",
      "metadata": {
        "id": "-2GTUqJoX8du",
        "colab_type": "code",
        "colab": {},
        "outputId": "b01db135-8667-4a9e-8998-cef92112b1be"
      },
      "source": [
        "\n",
        "\n",
        "result_city = all_data.groupby(['City_And_Country']).sum()\n",
        "\n",
        "#city_Names = list(all_data.City_And_Country.unique())\n",
        "city_Names =[city for city , df in all_data.groupby('City_And_Country')]\n",
        "print(result_city)\n",
        "city_Names"
      ],
      "execution_count": 0,
      "outputs": [
        {
          "output_type": "stream",
          "text": [
            "                      Quantity Ordered    Price Each   Month         Sales\n",
            "City_And_Country                                                          \n",
            " Atlanta ( GA)                   16602  2.779908e+06  104794  2.795499e+06\n",
            " Austin ( TX)                    11153  1.809874e+06   69829  1.819582e+06\n",
            " Boston ( MA)                    22528  3.637410e+06  141112  3.661642e+06\n",
            " Dallas ( TX)                    16730  2.752628e+06  104620  2.767975e+06\n",
            " Los Angeles ( CA)               33289  5.421435e+06  208325  5.452571e+06\n",
            " New York City ( NY)             27932  4.635371e+06  175741  4.664317e+06\n",
            " Portland ( ME)                   2750  4.471893e+05   17144  4.497583e+05\n",
            " Portland ( OR)                  11303  1.860558e+06   70621  1.870732e+06\n",
            " San Francisco ( CA)             50239  8.211462e+06  315520  8.262204e+06\n",
            " Seattle ( WA)                   16553  2.733296e+06  104941  2.747755e+06\n"
          ],
          "name": "stdout"
        },
        {
          "output_type": "execute_result",
          "data": {
            "text/plain": [
              "[' Atlanta ( GA)',\n",
              " ' Austin ( TX)',\n",
              " ' Boston ( MA)',\n",
              " ' Dallas ( TX)',\n",
              " ' Los Angeles ( CA)',\n",
              " ' New York City ( NY)',\n",
              " ' Portland ( ME)',\n",
              " ' Portland ( OR)',\n",
              " ' San Francisco ( CA)',\n",
              " ' Seattle ( WA)']"
            ]
          },
          "metadata": {
            "tags": []
          },
          "execution_count": 155
        }
      ]
    },
    {
      "cell_type": "code",
      "metadata": {
        "id": "eNUhfAeCX8dw",
        "colab_type": "code",
        "colab": {},
        "outputId": "508eb59b-4807-47c9-9abc-515e5c811e51"
      },
      "source": [
        "plt.bar(city_Names,result_city['Sales'],color = 'green',linewidth=2,edgecolor = 'darkgreen')\n",
        "plt.grid()\n",
        "plt.xticks(city_Names,rotation = 'vertical')\n",
        "plt.xlabel('city Names',size =12)\n",
        "plt.ylabel('Sales in USD ($)',size =12)\n",
        "plt.title('Sales in every Month for the year-2019')\n",
        "plt.show()"
      ],
      "execution_count": 0,
      "outputs": [
        {
          "output_type": "display_data",
          "data": {
            "image/png": "[encoded data removed]",
            "text/plain": [
              "<Figure size 432x288 with 1 Axes>"
            ]
          },
          "metadata": {
            "tags": [],
            "needs_background": "light"
          }
        }
      ]
    },
    {
      "cell_type": "markdown",
      "metadata": {
        "id": "j-O5jxS4X8d0",
        "colab_type": "text"
      },
      "source": [
        "# What Time should we show advertisements to maximize sales ??"
      ]
    },
    {
      "cell_type": "code",
      "metadata": {
        "id": "wGdwpI07X8d1",
        "colab_type": "code",
        "colab": {},
        "outputId": "5c64a08d-413e-42d5-a71b-631c7b29416e"
      },
      "source": [
        "all_data['Order Date']= pd.to_datetime(all_data['Order Date'])\n"
      ],
      "execution_count": 0,
      "outputs": [
        {
          "output_type": "stream",
          "text": [
            "/opt/miniconda3/lib/python3.7/site-packages/ipykernel_launcher.py:1: SettingWithCopyWarning: \n",
            "A value is trying to be set on a copy of a slice from a DataFrame.\n",
            "Try using .loc[row_indexer,col_indexer] = value instead\n",
            "\n",
            "See the caveats in the documentation: https://pandas.pydata.org/pandas-docs/stable/user_guide/indexing.html#returning-a-view-versus-a-copy\n",
            "  \"\"\"Entry point for launching an IPython kernel.\n"
          ],
          "name": "stderr"
        }
      ]
    },
    {
      "cell_type": "code",
      "metadata": {
        "id": "DR8WQnb2X8d4",
        "colab_type": "code",
        "colab": {},
        "outputId": "b8fe6605-efaa-4b29-8b82-8f15811ee50b"
      },
      "source": [
        "all_data\n",
        "\n",
        "all_data['Hour'] = all_data['Order Date'].dt.hour\n",
        "all_data['Mins'] = all_data['Order Date'].dt.minute\n",
        "\n",
        "all_data.head()"
      ],
      "execution_count": 0,
      "outputs": [
        {
          "output_type": "stream",
          "text": [
            "/opt/miniconda3/lib/python3.7/site-packages/ipykernel_launcher.py:3: SettingWithCopyWarning: \n",
            "A value is trying to be set on a copy of a slice from a DataFrame.\n",
            "Try using .loc[row_indexer,col_indexer] = value instead\n",
            "\n",
            "See the caveats in the documentation: https://pandas.pydata.org/pandas-docs/stable/user_guide/indexing.html#returning-a-view-versus-a-copy\n",
            "  This is separate from the ipykernel package so we can avoid doing imports until\n",
            "/opt/miniconda3/lib/python3.7/site-packages/ipykernel_launcher.py:4: SettingWithCopyWarning: \n",
            "A value is trying to be set on a copy of a slice from a DataFrame.\n",
            "Try using .loc[row_indexer,col_indexer] = value instead\n",
            "\n",
            "See the caveats in the documentation: https://pandas.pydata.org/pandas-docs/stable/user_guide/indexing.html#returning-a-view-versus-a-copy\n",
            "  after removing the cwd from sys.path.\n"
          ],
          "name": "stderr"
        },
        {
          "output_type": "execute_result",
          "data": {
            "text/html": [
              "<div>\n",
              "<style scoped>\n",
              "    .dataframe tbody tr th:only-of-type {\n",
              "        vertical-align: middle;\n",
              "    }\n",
              "\n",
              "    .dataframe tbody tr th {\n",
              "        vertical-align: top;\n",
              "    }\n",
              "\n",
              "    .dataframe thead th {\n",
              "        text-align: right;\n",
              "    }\n",
              "</style>\n",
              "<table border=\"1\" class=\"dataframe\">\n",
              "  <thead>\n",
              "    <tr style=\"text-align: right;\">\n",
              "      <th></th>\n",
              "      <th>Order ID</th>\n",
              "      <th>Product</th>\n",
              "      <th>Quantity Ordered</th>\n",
              "      <th>Price Each</th>\n",
              "      <th>Order Date</th>\n",
              "      <th>Purchase Address</th>\n",
              "      <th>Month</th>\n",
              "      <th>Sales</th>\n",
              "      <th>City_Code</th>\n",
              "      <th>Country_Code</th>\n",
              "      <th>City</th>\n",
              "      <th>City_And_Country</th>\n",
              "      <th>Hour</th>\n",
              "      <th>Mins</th>\n",
              "    </tr>\n",
              "  </thead>\n",
              "  <tbody>\n",
              "    <tr>\n",
              "      <th>0</th>\n",
              "      <td>295665</td>\n",
              "      <td>Macbook Pro Laptop</td>\n",
              "      <td>1</td>\n",
              "      <td>1700.00</td>\n",
              "      <td>2019-12-30 00:01:00</td>\n",
              "      <td>136 Church St, New York City, NY 10001</td>\n",
              "      <td>12</td>\n",
              "      <td>1700.00</td>\n",
              "      <td>NY</td>\n",
              "      <td>NY</td>\n",
              "      <td>New York City</td>\n",
              "      <td>New York City ( NY)</td>\n",
              "      <td>0</td>\n",
              "      <td>1</td>\n",
              "    </tr>\n",
              "    <tr>\n",
              "      <th>1</th>\n",
              "      <td>295666</td>\n",
              "      <td>LG Washing Machine</td>\n",
              "      <td>1</td>\n",
              "      <td>600.00</td>\n",
              "      <td>2019-12-29 07:03:00</td>\n",
              "      <td>562 2nd St, New York City, NY 10001</td>\n",
              "      <td>12</td>\n",
              "      <td>600.00</td>\n",
              "      <td>NY</td>\n",
              "      <td>NY</td>\n",
              "      <td>New York City</td>\n",
              "      <td>New York City ( NY)</td>\n",
              "      <td>7</td>\n",
              "      <td>3</td>\n",
              "    </tr>\n",
              "    <tr>\n",
              "      <th>2</th>\n",
              "      <td>295667</td>\n",
              "      <td>USB-C Charging Cable</td>\n",
              "      <td>1</td>\n",
              "      <td>11.95</td>\n",
              "      <td>2019-12-12 18:21:00</td>\n",
              "      <td>277 Main St, New York City, NY 10001</td>\n",
              "      <td>12</td>\n",
              "      <td>11.95</td>\n",
              "      <td>NY</td>\n",
              "      <td>NY</td>\n",
              "      <td>New York City</td>\n",
              "      <td>New York City ( NY)</td>\n",
              "      <td>18</td>\n",
              "      <td>21</td>\n",
              "    </tr>\n",
              "    <tr>\n",
              "      <th>3</th>\n",
              "      <td>295668</td>\n",
              "      <td>27in FHD Monitor</td>\n",
              "      <td>1</td>\n",
              "      <td>149.99</td>\n",
              "      <td>2019-12-22 15:13:00</td>\n",
              "      <td>410 6th St, San Francisco, CA 94016</td>\n",
              "      <td>12</td>\n",
              "      <td>149.99</td>\n",
              "      <td>CA</td>\n",
              "      <td>CA</td>\n",
              "      <td>San Francisco</td>\n",
              "      <td>San Francisco ( CA)</td>\n",
              "      <td>15</td>\n",
              "      <td>13</td>\n",
              "    </tr>\n",
              "    <tr>\n",
              "      <th>4</th>\n",
              "      <td>295669</td>\n",
              "      <td>USB-C Charging Cable</td>\n",
              "      <td>1</td>\n",
              "      <td>11.95</td>\n",
              "      <td>2019-12-18 12:38:00</td>\n",
              "      <td>43 Hill St, Atlanta, GA 30301</td>\n",
              "      <td>12</td>\n",
              "      <td>11.95</td>\n",
              "      <td>GA</td>\n",
              "      <td>GA</td>\n",
              "      <td>Atlanta</td>\n",
              "      <td>Atlanta ( GA)</td>\n",
              "      <td>12</td>\n",
              "      <td>38</td>\n",
              "    </tr>\n",
              "  </tbody>\n",
              "</table>\n",
              "</div>"
            ],
            "text/plain": [
              "  Order ID               Product  Quantity Ordered  Price Each  \\\n",
              "0   295665    Macbook Pro Laptop                 1     1700.00   \n",
              "1   295666    LG Washing Machine                 1      600.00   \n",
              "2   295667  USB-C Charging Cable                 1       11.95   \n",
              "3   295668      27in FHD Monitor                 1      149.99   \n",
              "4   295669  USB-C Charging Cable                 1       11.95   \n",
              "\n",
              "           Order Date                        Purchase Address  Month    Sales  \\\n",
              "0 2019-12-30 00:01:00  136 Church St, New York City, NY 10001     12  1700.00   \n",
              "1 2019-12-29 07:03:00     562 2nd St, New York City, NY 10001     12   600.00   \n",
              "2 2019-12-12 18:21:00    277 Main St, New York City, NY 10001     12    11.95   \n",
              "3 2019-12-22 15:13:00     410 6th St, San Francisco, CA 94016     12   149.99   \n",
              "4 2019-12-18 12:38:00           43 Hill St, Atlanta, GA 30301     12    11.95   \n",
              "\n",
              "  City_Code Country_Code            City      City_And_Country  Hour  Mins  \n",
              "0        NY           NY   New York City   New York City ( NY)     0     1  \n",
              "1        NY           NY   New York City   New York City ( NY)     7     3  \n",
              "2        NY           NY   New York City   New York City ( NY)    18    21  \n",
              "3        CA           CA   San Francisco   San Francisco ( CA)    15    13  \n",
              "4        GA           GA         Atlanta         Atlanta ( GA)    12    38  "
            ]
          },
          "metadata": {
            "tags": []
          },
          "execution_count": 161
        }
      ]
    },
    {
      "cell_type": "code",
      "metadata": {
        "id": "SjCscNhBX8d8",
        "colab_type": "code",
        "colab": {},
        "outputId": "e9a1306f-9c08-4284-f276-1be970851271"
      },
      "source": [
        "hours = [hour for hour , df in all_data.groupby('Hour')]\n",
        "\n",
        "result3 = all_data.groupby('Hour').count()\n",
        "result3\n",
        "plt.plot(hours,result3,color = 'green',linewidth=2)\n",
        "plt.grid()\n",
        "plt.xticks(hours,rotation = 'vertical')\n",
        "plt.xlabel('Hours',size =12)\n",
        "plt.ylabel('Sales Count',size =12)\n",
        "plt.title('Time with Maximum Sale')\n",
        "plt.show()"
      ],
      "execution_count": 0,
      "outputs": [
        {
          "output_type": "display_data",
          "data": {
            "image/png": "[encoded data removed]",
            "text/plain": [
              "<Figure size 432x288 with 1 Axes>"
            ]
          },
          "metadata": {
            "tags": [],
            "needs_background": "light"
          }
        }
      ]
    },
    {
      "cell_type": "markdown",
      "metadata": {
        "id": "xE5aRpQ9X8d_",
        "colab_type": "text"
      },
      "source": [
        "# What Products are Sold Together , in Group ? "
      ]
    },
    {
      "cell_type": "code",
      "metadata": {
        "id": "4zUlo2TXX8eA",
        "colab_type": "code",
        "colab": {},
        "outputId": "78a480a7-681a-4b9f-e638-6e5bc5d99cc2"
      },
      "source": [
        "#First Find the Duplicate Order IDS :\n",
        "df = all_data[all_data['Order ID'].duplicated(keep = False)]\n",
        "df"
      ],
      "execution_count": 0,
      "outputs": [
        {
          "output_type": "execute_result",
          "data": {
            "text/html": [
              "<div>\n",
              "<style scoped>\n",
              "    .dataframe tbody tr th:only-of-type {\n",
              "        vertical-align: middle;\n",
              "    }\n",
              "\n",
              "    .dataframe tbody tr th {\n",
              "        vertical-align: top;\n",
              "    }\n",
              "\n",
              "    .dataframe thead th {\n",
              "        text-align: right;\n",
              "    }\n",
              "</style>\n",
              "<table border=\"1\" class=\"dataframe\">\n",
              "  <thead>\n",
              "    <tr style=\"text-align: right;\">\n",
              "      <th></th>\n",
              "      <th>Order ID</th>\n",
              "      <th>Product</th>\n",
              "      <th>Quantity Ordered</th>\n",
              "      <th>Price Each</th>\n",
              "      <th>Order Date</th>\n",
              "      <th>Purchase Address</th>\n",
              "      <th>Month</th>\n",
              "      <th>Sales</th>\n",
              "      <th>City_Code</th>\n",
              "      <th>Country_Code</th>\n",
              "      <th>City</th>\n",
              "      <th>City_And_Country</th>\n",
              "      <th>Hour</th>\n",
              "      <th>Mins</th>\n",
              "    </tr>\n",
              "  </thead>\n",
              "  <tbody>\n",
              "    <tr>\n",
              "      <th>16</th>\n",
              "      <td>295681</td>\n",
              "      <td>Google Phone</td>\n",
              "      <td>1</td>\n",
              "      <td>600.00</td>\n",
              "      <td>2019-12-25 12:37:00</td>\n",
              "      <td>79 Elm St, Boston, MA 02215</td>\n",
              "      <td>12</td>\n",
              "      <td>600.00</td>\n",
              "      <td>MA</td>\n",
              "      <td>MA</td>\n",
              "      <td>Boston</td>\n",
              "      <td>Boston ( MA)</td>\n",
              "      <td>12</td>\n",
              "      <td>37</td>\n",
              "    </tr>\n",
              "    <tr>\n",
              "      <th>17</th>\n",
              "      <td>295681</td>\n",
              "      <td>USB-C Charging Cable</td>\n",
              "      <td>1</td>\n",
              "      <td>11.95</td>\n",
              "      <td>2019-12-25 12:37:00</td>\n",
              "      <td>79 Elm St, Boston, MA 02215</td>\n",
              "      <td>12</td>\n",
              "      <td>11.95</td>\n",
              "      <td>MA</td>\n",
              "      <td>MA</td>\n",
              "      <td>Boston</td>\n",
              "      <td>Boston ( MA)</td>\n",
              "      <td>12</td>\n",
              "      <td>37</td>\n",
              "    </tr>\n",
              "    <tr>\n",
              "      <th>18</th>\n",
              "      <td>295681</td>\n",
              "      <td>Bose SoundSport Headphones</td>\n",
              "      <td>1</td>\n",
              "      <td>99.99</td>\n",
              "      <td>2019-12-25 12:37:00</td>\n",
              "      <td>79 Elm St, Boston, MA 02215</td>\n",
              "      <td>12</td>\n",
              "      <td>99.99</td>\n",
              "      <td>MA</td>\n",
              "      <td>MA</td>\n",
              "      <td>Boston</td>\n",
              "      <td>Boston ( MA)</td>\n",
              "      <td>12</td>\n",
              "      <td>37</td>\n",
              "    </tr>\n",
              "    <tr>\n",
              "      <th>19</th>\n",
              "      <td>295681</td>\n",
              "      <td>Wired Headphones</td>\n",
              "      <td>1</td>\n",
              "      <td>11.99</td>\n",
              "      <td>2019-12-25 12:37:00</td>\n",
              "      <td>79 Elm St, Boston, MA 02215</td>\n",
              "      <td>12</td>\n",
              "      <td>11.99</td>\n",
              "      <td>MA</td>\n",
              "      <td>MA</td>\n",
              "      <td>Boston</td>\n",
              "      <td>Boston ( MA)</td>\n",
              "      <td>12</td>\n",
              "      <td>37</td>\n",
              "    </tr>\n",
              "    <tr>\n",
              "      <th>36</th>\n",
              "      <td>295698</td>\n",
              "      <td>Vareebadd Phone</td>\n",
              "      <td>1</td>\n",
              "      <td>400.00</td>\n",
              "      <td>2019-12-13 14:32:00</td>\n",
              "      <td>175 1st St, New York City, NY 10001</td>\n",
              "      <td>12</td>\n",
              "      <td>400.00</td>\n",
              "      <td>NY</td>\n",
              "      <td>NY</td>\n",
              "      <td>New York City</td>\n",
              "      <td>New York City ( NY)</td>\n",
              "      <td>14</td>\n",
              "      <td>32</td>\n",
              "    </tr>\n",
              "    <tr>\n",
              "      <th>...</th>\n",
              "      <td>...</td>\n",
              "      <td>...</td>\n",
              "      <td>...</td>\n",
              "      <td>...</td>\n",
              "      <td>...</td>\n",
              "      <td>...</td>\n",
              "      <td>...</td>\n",
              "      <td>...</td>\n",
              "      <td>...</td>\n",
              "      <td>...</td>\n",
              "      <td>...</td>\n",
              "      <td>...</td>\n",
              "      <td>...</td>\n",
              "      <td>...</td>\n",
              "    </tr>\n",
              "    <tr>\n",
              "      <th>186822</th>\n",
              "      <td>222882</td>\n",
              "      <td>AA Batteries (4-pack)</td>\n",
              "      <td>1</td>\n",
              "      <td>3.84</td>\n",
              "      <td>2019-06-18 11:37:00</td>\n",
              "      <td>990 Walnut St, Los Angeles, CA 90001</td>\n",
              "      <td>6</td>\n",
              "      <td>3.84</td>\n",
              "      <td>CA</td>\n",
              "      <td>CA</td>\n",
              "      <td>Los Angeles</td>\n",
              "      <td>Los Angeles ( CA)</td>\n",
              "      <td>11</td>\n",
              "      <td>37</td>\n",
              "    </tr>\n",
              "    <tr>\n",
              "      <th>186824</th>\n",
              "      <td>222884</td>\n",
              "      <td>Google Phone</td>\n",
              "      <td>1</td>\n",
              "      <td>600.00</td>\n",
              "      <td>2019-06-04 12:06:00</td>\n",
              "      <td>819 Pine St, New York City, NY 10001</td>\n",
              "      <td>6</td>\n",
              "      <td>600.00</td>\n",
              "      <td>NY</td>\n",
              "      <td>NY</td>\n",
              "      <td>New York City</td>\n",
              "      <td>New York City ( NY)</td>\n",
              "      <td>12</td>\n",
              "      <td>6</td>\n",
              "    </tr>\n",
              "    <tr>\n",
              "      <th>186825</th>\n",
              "      <td>222884</td>\n",
              "      <td>USB-C Charging Cable</td>\n",
              "      <td>1</td>\n",
              "      <td>11.95</td>\n",
              "      <td>2019-06-04 12:06:00</td>\n",
              "      <td>819 Pine St, New York City, NY 10001</td>\n",
              "      <td>6</td>\n",
              "      <td>11.95</td>\n",
              "      <td>NY</td>\n",
              "      <td>NY</td>\n",
              "      <td>New York City</td>\n",
              "      <td>New York City ( NY)</td>\n",
              "      <td>12</td>\n",
              "      <td>6</td>\n",
              "    </tr>\n",
              "    <tr>\n",
              "      <th>186844</th>\n",
              "      <td>222903</td>\n",
              "      <td>iPhone</td>\n",
              "      <td>1</td>\n",
              "      <td>700.00</td>\n",
              "      <td>2019-06-07 22:21:00</td>\n",
              "      <td>685 Hickory St, New York City, NY 10001</td>\n",
              "      <td>6</td>\n",
              "      <td>700.00</td>\n",
              "      <td>NY</td>\n",
              "      <td>NY</td>\n",
              "      <td>New York City</td>\n",
              "      <td>New York City ( NY)</td>\n",
              "      <td>22</td>\n",
              "      <td>21</td>\n",
              "    </tr>\n",
              "    <tr>\n",
              "      <th>186845</th>\n",
              "      <td>222903</td>\n",
              "      <td>Lightning Charging Cable</td>\n",
              "      <td>1</td>\n",
              "      <td>14.95</td>\n",
              "      <td>2019-06-07 22:21:00</td>\n",
              "      <td>685 Hickory St, New York City, NY 10001</td>\n",
              "      <td>6</td>\n",
              "      <td>14.95</td>\n",
              "      <td>NY</td>\n",
              "      <td>NY</td>\n",
              "      <td>New York City</td>\n",
              "      <td>New York City ( NY)</td>\n",
              "      <td>22</td>\n",
              "      <td>21</td>\n",
              "    </tr>\n",
              "  </tbody>\n",
              "</table>\n",
              "<p>14649 rows × 14 columns</p>\n",
              "</div>"
            ],
            "text/plain": [
              "       Order ID                     Product  Quantity Ordered  Price Each  \\\n",
              "16       295681                Google Phone                 1      600.00   \n",
              "17       295681        USB-C Charging Cable                 1       11.95   \n",
              "18       295681  Bose SoundSport Headphones                 1       99.99   \n",
              "19       295681            Wired Headphones                 1       11.99   \n",
              "36       295698             Vareebadd Phone                 1      400.00   \n",
              "...         ...                         ...               ...         ...   \n",
              "186822   222882       AA Batteries (4-pack)                 1        3.84   \n",
              "186824   222884                Google Phone                 1      600.00   \n",
              "186825   222884        USB-C Charging Cable                 1       11.95   \n",
              "186844   222903                      iPhone                 1      700.00   \n",
              "186845   222903    Lightning Charging Cable                 1       14.95   \n",
              "\n",
              "                Order Date                         Purchase Address  Month  \\\n",
              "16     2019-12-25 12:37:00              79 Elm St, Boston, MA 02215     12   \n",
              "17     2019-12-25 12:37:00              79 Elm St, Boston, MA 02215     12   \n",
              "18     2019-12-25 12:37:00              79 Elm St, Boston, MA 02215     12   \n",
              "19     2019-12-25 12:37:00              79 Elm St, Boston, MA 02215     12   \n",
              "36     2019-12-13 14:32:00      175 1st St, New York City, NY 10001     12   \n",
              "...                    ...                                      ...    ...   \n",
              "186822 2019-06-18 11:37:00     990 Walnut St, Los Angeles, CA 90001      6   \n",
              "186824 2019-06-04 12:06:00     819 Pine St, New York City, NY 10001      6   \n",
              "186825 2019-06-04 12:06:00     819 Pine St, New York City, NY 10001      6   \n",
              "186844 2019-06-07 22:21:00  685 Hickory St, New York City, NY 10001      6   \n",
              "186845 2019-06-07 22:21:00  685 Hickory St, New York City, NY 10001      6   \n",
              "\n",
              "         Sales City_Code Country_Code            City      City_And_Country  \\\n",
              "16      600.00        MA           MA          Boston          Boston ( MA)   \n",
              "17       11.95        MA           MA          Boston          Boston ( MA)   \n",
              "18       99.99        MA           MA          Boston          Boston ( MA)   \n",
              "19       11.99        MA           MA          Boston          Boston ( MA)   \n",
              "36      400.00        NY           NY   New York City   New York City ( NY)   \n",
              "...        ...       ...          ...             ...                   ...   \n",
              "186822    3.84        CA           CA     Los Angeles     Los Angeles ( CA)   \n",
              "186824  600.00        NY           NY   New York City   New York City ( NY)   \n",
              "186825   11.95        NY           NY   New York City   New York City ( NY)   \n",
              "186844  700.00        NY           NY   New York City   New York City ( NY)   \n",
              "186845   14.95        NY           NY   New York City   New York City ( NY)   \n",
              "\n",
              "        Hour  Mins  \n",
              "16        12    37  \n",
              "17        12    37  \n",
              "18        12    37  \n",
              "19        12    37  \n",
              "36        14    32  \n",
              "...      ...   ...  \n",
              "186822    11    37  \n",
              "186824    12     6  \n",
              "186825    12     6  \n",
              "186844    22    21  \n",
              "186845    22    21  \n",
              "\n",
              "[14649 rows x 14 columns]"
            ]
          },
          "metadata": {
            "tags": []
          },
          "execution_count": 195
        }
      ]
    },
    {
      "cell_type": "code",
      "metadata": {
        "id": "6Mdw8uGlX8eD",
        "colab_type": "code",
        "colab": {},
        "outputId": "66dd0203-6a06-43ed-90f6-2865f3a83545"
      },
      "source": [
        "df['Grouped']=df.groupby('Order ID')['Product'].transform(lambda x : ','.join(x))\n",
        "df = df[['Order ID','Grouped']].drop_duplicates()"
      ],
      "execution_count": 0,
      "outputs": [
        {
          "output_type": "stream",
          "text": [
            "/opt/miniconda3/lib/python3.7/site-packages/ipykernel_launcher.py:1: SettingWithCopyWarning: \n",
            "A value is trying to be set on a copy of a slice from a DataFrame.\n",
            "Try using .loc[row_indexer,col_indexer] = value instead\n",
            "\n",
            "See the caveats in the documentation: https://pandas.pydata.org/pandas-docs/stable/user_guide/indexing.html#returning-a-view-versus-a-copy\n",
            "  \"\"\"Entry point for launching an IPython kernel.\n"
          ],
          "name": "stderr"
        }
      ]
    },
    {
      "cell_type": "code",
      "metadata": {
        "id": "6hl7x5QiX8eG",
        "colab_type": "code",
        "colab": {}
      },
      "source": [
        "from itertools import combinations\n",
        "from collections import Counter"
      ],
      "execution_count": 0,
      "outputs": []
    },
    {
      "cell_type": "code",
      "metadata": {
        "id": "o24wZVF9X8eJ",
        "colab_type": "code",
        "colab": {}
      },
      "source": [
        "count = dict(Counter(df['Grouped']))"
      ],
      "execution_count": 0,
      "outputs": []
    },
    {
      "cell_type": "code",
      "metadata": {
        "id": "gBS5lP49X8eN",
        "colab_type": "code",
        "colab": {}
      },
      "source": [
        "most_sold_combo =[x for x in count if count[x]==max(count.values())]"
      ],
      "execution_count": 0,
      "outputs": []
    },
    {
      "cell_type": "code",
      "metadata": {
        "id": "EioZfH5HX8eQ",
        "colab_type": "code",
        "colab": {},
        "outputId": "d8a978e9-bc0b-4044-bd2e-3177bbd935d4"
      },
      "source": [
        "print('The Most Sold Combo are : ')\n",
        "for i in most_sold_combo:\n",
        "    print(i)\n",
        "    print('\\n')\n",
        "\n",
        "\n",
        "\n",
        "all_data.head()"
      ],
      "execution_count": 0,
      "outputs": [
        {
          "output_type": "stream",
          "text": [
            "The Most Sold Combo are : \n",
            "iPhone,Lightning Charging Cable\n",
            "\n",
            "\n"
          ],
          "name": "stdout"
        },
        {
          "output_type": "execute_result",
          "data": {
            "text/html": [
              "<div>\n",
              "<style scoped>\n",
              "    .dataframe tbody tr th:only-of-type {\n",
              "        vertical-align: middle;\n",
              "    }\n",
              "\n",
              "    .dataframe tbody tr th {\n",
              "        vertical-align: top;\n",
              "    }\n",
              "\n",
              "    .dataframe thead th {\n",
              "        text-align: right;\n",
              "    }\n",
              "</style>\n",
              "<table border=\"1\" class=\"dataframe\">\n",
              "  <thead>\n",
              "    <tr style=\"text-align: right;\">\n",
              "      <th></th>\n",
              "      <th>Order ID</th>\n",
              "      <th>Product</th>\n",
              "      <th>Quantity Ordered</th>\n",
              "      <th>Price Each</th>\n",
              "      <th>Order Date</th>\n",
              "      <th>Purchase Address</th>\n",
              "      <th>Month</th>\n",
              "      <th>Sales</th>\n",
              "      <th>City_Code</th>\n",
              "      <th>Country_Code</th>\n",
              "      <th>City</th>\n",
              "      <th>City_And_Country</th>\n",
              "      <th>Hour</th>\n",
              "      <th>Mins</th>\n",
              "    </tr>\n",
              "  </thead>\n",
              "  <tbody>\n",
              "    <tr>\n",
              "      <th>0</th>\n",
              "      <td>295665</td>\n",
              "      <td>Macbook Pro Laptop</td>\n",
              "      <td>1</td>\n",
              "      <td>1700.00</td>\n",
              "      <td>2019-12-30 00:01:00</td>\n",
              "      <td>136 Church St, New York City, NY 10001</td>\n",
              "      <td>12</td>\n",
              "      <td>1700.00</td>\n",
              "      <td>NY</td>\n",
              "      <td>NY</td>\n",
              "      <td>New York City</td>\n",
              "      <td>New York City ( NY)</td>\n",
              "      <td>0</td>\n",
              "      <td>1</td>\n",
              "    </tr>\n",
              "    <tr>\n",
              "      <th>1</th>\n",
              "      <td>295666</td>\n",
              "      <td>LG Washing Machine</td>\n",
              "      <td>1</td>\n",
              "      <td>600.00</td>\n",
              "      <td>2019-12-29 07:03:00</td>\n",
              "      <td>562 2nd St, New York City, NY 10001</td>\n",
              "      <td>12</td>\n",
              "      <td>600.00</td>\n",
              "      <td>NY</td>\n",
              "      <td>NY</td>\n",
              "      <td>New York City</td>\n",
              "      <td>New York City ( NY)</td>\n",
              "      <td>7</td>\n",
              "      <td>3</td>\n",
              "    </tr>\n",
              "    <tr>\n",
              "      <th>2</th>\n",
              "      <td>295667</td>\n",
              "      <td>USB-C Charging Cable</td>\n",
              "      <td>1</td>\n",
              "      <td>11.95</td>\n",
              "      <td>2019-12-12 18:21:00</td>\n",
              "      <td>277 Main St, New York City, NY 10001</td>\n",
              "      <td>12</td>\n",
              "      <td>11.95</td>\n",
              "      <td>NY</td>\n",
              "      <td>NY</td>\n",
              "      <td>New York City</td>\n",
              "      <td>New York City ( NY)</td>\n",
              "      <td>18</td>\n",
              "      <td>21</td>\n",
              "    </tr>\n",
              "    <tr>\n",
              "      <th>3</th>\n",
              "      <td>295668</td>\n",
              "      <td>27in FHD Monitor</td>\n",
              "      <td>1</td>\n",
              "      <td>149.99</td>\n",
              "      <td>2019-12-22 15:13:00</td>\n",
              "      <td>410 6th St, San Francisco, CA 94016</td>\n",
              "      <td>12</td>\n",
              "      <td>149.99</td>\n",
              "      <td>CA</td>\n",
              "      <td>CA</td>\n",
              "      <td>San Francisco</td>\n",
              "      <td>San Francisco ( CA)</td>\n",
              "      <td>15</td>\n",
              "      <td>13</td>\n",
              "    </tr>\n",
              "    <tr>\n",
              "      <th>4</th>\n",
              "      <td>295669</td>\n",
              "      <td>USB-C Charging Cable</td>\n",
              "      <td>1</td>\n",
              "      <td>11.95</td>\n",
              "      <td>2019-12-18 12:38:00</td>\n",
              "      <td>43 Hill St, Atlanta, GA 30301</td>\n",
              "      <td>12</td>\n",
              "      <td>11.95</td>\n",
              "      <td>GA</td>\n",
              "      <td>GA</td>\n",
              "      <td>Atlanta</td>\n",
              "      <td>Atlanta ( GA)</td>\n",
              "      <td>12</td>\n",
              "      <td>38</td>\n",
              "    </tr>\n",
              "  </tbody>\n",
              "</table>\n",
              "</div>"
            ],
            "text/plain": [
              "  Order ID               Product  Quantity Ordered  Price Each  \\\n",
              "0   295665    Macbook Pro Laptop                 1     1700.00   \n",
              "1   295666    LG Washing Machine                 1      600.00   \n",
              "2   295667  USB-C Charging Cable                 1       11.95   \n",
              "3   295668      27in FHD Monitor                 1      149.99   \n",
              "4   295669  USB-C Charging Cable                 1       11.95   \n",
              "\n",
              "           Order Date                        Purchase Address  Month    Sales  \\\n",
              "0 2019-12-30 00:01:00  136 Church St, New York City, NY 10001     12  1700.00   \n",
              "1 2019-12-29 07:03:00     562 2nd St, New York City, NY 10001     12   600.00   \n",
              "2 2019-12-12 18:21:00    277 Main St, New York City, NY 10001     12    11.95   \n",
              "3 2019-12-22 15:13:00     410 6th St, San Francisco, CA 94016     12   149.99   \n",
              "4 2019-12-18 12:38:00           43 Hill St, Atlanta, GA 30301     12    11.95   \n",
              "\n",
              "  City_Code Country_Code            City      City_And_Country  Hour  Mins  \n",
              "0        NY           NY   New York City   New York City ( NY)     0     1  \n",
              "1        NY           NY   New York City   New York City ( NY)     7     3  \n",
              "2        NY           NY   New York City   New York City ( NY)    18    21  \n",
              "3        CA           CA   San Francisco   San Francisco ( CA)    15    13  \n",
              "4        GA           GA         Atlanta         Atlanta ( GA)    12    38  "
            ]
          },
          "metadata": {
            "tags": []
          },
          "execution_count": 225
        }
      ]
    },
    {
      "cell_type": "markdown",
      "metadata": {
        "id": "dsqC140yX8eT",
        "colab_type": "text"
      },
      "source": [
        "# What Product was sold the most and why ?"
      ]
    },
    {
      "cell_type": "code",
      "metadata": {
        "id": "JA45L9AQX8eU",
        "colab_type": "code",
        "colab": {}
      },
      "source": [
        "quantity_ordered =all_data.groupby('Product').sum()\n",
        "products = [products for products , df in all_data.groupby('Product')]\n",
        "\n"
      ],
      "execution_count": 0,
      "outputs": []
    },
    {
      "cell_type": "code",
      "metadata": {
        "id": "Hl3vI4uNX8eZ",
        "colab_type": "code",
        "colab": {},
        "outputId": "ae89be7b-a4fc-408d-f7e5-c630b25a76db"
      },
      "source": [
        "plt.bar(products,quantity_ordered['Quantity Ordered'],color = 'green',linewidth=2,edgecolor = 'darkgreen')\n",
        "plt.grid()\n",
        "plt.xticks(products,rotation ='vertical')\n",
        "plt.xlabel('Products')\n",
        "plt.ylabel('Quantity Ordered')\n",
        "plt.title('Product that is sold maximum')\n",
        "plt.show()"
      ],
      "execution_count": 0,
      "outputs": [
        {
          "output_type": "display_data",
          "data": {
            "image/png": "[encoded data removed]",
            "text/plain": [
              "<Figure size 432x288 with 1 Axes>"
            ]
          },
          "metadata": {
            "tags": [],
            "needs_background": "light"
          }
        }
      ]
    },
    {
      "cell_type": "code",
      "metadata": {
        "id": "gBPjcwLUX8eb",
        "colab_type": "code",
        "colab": {},
        "outputId": "89a31410-48a6-4cfc-ec91-e492c036ac39"
      },
      "source": [
        "all_data.corr()"
      ],
      "execution_count": 0,
      "outputs": [
        {
          "output_type": "execute_result",
          "data": {
            "text/html": [
              "<div>\n",
              "<style scoped>\n",
              "    .dataframe tbody tr th:only-of-type {\n",
              "        vertical-align: middle;\n",
              "    }\n",
              "\n",
              "    .dataframe tbody tr th {\n",
              "        vertical-align: top;\n",
              "    }\n",
              "\n",
              "    .dataframe thead th {\n",
              "        text-align: right;\n",
              "    }\n",
              "</style>\n",
              "<table border=\"1\" class=\"dataframe\">\n",
              "  <thead>\n",
              "    <tr style=\"text-align: right;\">\n",
              "      <th></th>\n",
              "      <th>Quantity Ordered</th>\n",
              "      <th>Price Each</th>\n",
              "      <th>Month</th>\n",
              "      <th>Sales</th>\n",
              "      <th>Hour</th>\n",
              "      <th>Mins</th>\n",
              "    </tr>\n",
              "  </thead>\n",
              "  <tbody>\n",
              "    <tr>\n",
              "      <th>Quantity Ordered</th>\n",
              "      <td>1.000000</td>\n",
              "      <td>-0.148272</td>\n",
              "      <td>0.000791</td>\n",
              "      <td>-0.139417</td>\n",
              "      <td>-0.002218</td>\n",
              "      <td>0.001225</td>\n",
              "    </tr>\n",
              "    <tr>\n",
              "      <th>Price Each</th>\n",
              "      <td>-0.148272</td>\n",
              "      <td>1.000000</td>\n",
              "      <td>-0.003375</td>\n",
              "      <td>0.999203</td>\n",
              "      <td>0.001721</td>\n",
              "      <td>-0.002163</td>\n",
              "    </tr>\n",
              "    <tr>\n",
              "      <th>Month</th>\n",
              "      <td>0.000791</td>\n",
              "      <td>-0.003375</td>\n",
              "      <td>1.000000</td>\n",
              "      <td>-0.003466</td>\n",
              "      <td>0.001731</td>\n",
              "      <td>-0.002075</td>\n",
              "    </tr>\n",
              "    <tr>\n",
              "      <th>Sales</th>\n",
              "      <td>-0.139417</td>\n",
              "      <td>0.999203</td>\n",
              "      <td>-0.003466</td>\n",
              "      <td>1.000000</td>\n",
              "      <td>0.001668</td>\n",
              "      <td>-0.002162</td>\n",
              "    </tr>\n",
              "    <tr>\n",
              "      <th>Hour</th>\n",
              "      <td>-0.002218</td>\n",
              "      <td>0.001721</td>\n",
              "      <td>0.001731</td>\n",
              "      <td>0.001668</td>\n",
              "      <td>1.000000</td>\n",
              "      <td>-0.015345</td>\n",
              "    </tr>\n",
              "    <tr>\n",
              "      <th>Mins</th>\n",
              "      <td>0.001225</td>\n",
              "      <td>-0.002163</td>\n",
              "      <td>-0.002075</td>\n",
              "      <td>-0.002162</td>\n",
              "      <td>-0.015345</td>\n",
              "      <td>1.000000</td>\n",
              "    </tr>\n",
              "  </tbody>\n",
              "</table>\n",
              "</div>"
            ],
            "text/plain": [
              "                  Quantity Ordered  Price Each     Month     Sales      Hour  \\\n",
              "Quantity Ordered          1.000000   -0.148272  0.000791 -0.139417 -0.002218   \n",
              "Price Each               -0.148272    1.000000 -0.003375  0.999203  0.001721   \n",
              "Month                     0.000791   -0.003375  1.000000 -0.003466  0.001731   \n",
              "Sales                    -0.139417    0.999203 -0.003466  1.000000  0.001668   \n",
              "Hour                     -0.002218    0.001721  0.001731  0.001668  1.000000   \n",
              "Mins                      0.001225   -0.002163 -0.002075 -0.002162 -0.015345   \n",
              "\n",
              "                      Mins  \n",
              "Quantity Ordered  0.001225  \n",
              "Price Each       -0.002163  \n",
              "Month            -0.002075  \n",
              "Sales            -0.002162  \n",
              "Hour             -0.015345  \n",
              "Mins              1.000000  "
            ]
          },
          "metadata": {
            "tags": []
          },
          "execution_count": 230
        }
      ]
    },
    {
      "cell_type": "code",
      "metadata": {
        "id": "MREu5qzlX8ef",
        "colab_type": "code",
        "colab": {},
        "outputId": "2f0b5d5c-2ea8-4842-c3e5-6216972c1752"
      },
      "source": [
        "prices=all_data.groupby('Product').mean()['Price Each']\n",
        "\n",
        "fig,ax1 = plt.subplots()\n",
        "ax2 = ax1.twinx()\n",
        "ax1.bar(products,quantity_ordered['Quantity Ordered'],color=\"green\")\n",
        "ax2.plot(products,prices,'b-')\n",
        "ax1.set_xticklabels(products,rotation ='vertical')\n",
        "ax1.set_xlabel('Products')\n",
        "ax1.set_ylabel('Quantity Ordered',color=\"green\",size =12)\n",
        "ax2.set_ylabel('Price in USD ($)',color= \"blue\",size =12)\n",
        "plt.title('Product that is sold maximum')\n",
        "plt.show()"
      ],
      "execution_count": 0,
      "outputs": [
        {
          "output_type": "display_data",
          "data": {
            "image/png": "[encoded data removed]",
            "text/plain": [
              "<Figure size 432x288 with 2 Axes>"
            ]
          },
          "metadata": {
            "tags": [],
            "needs_background": "light"
          }
        }
      ]
    },
    {
      "cell_type": "code",
      "metadata": {
        "id": "InSjUYrqX8ei",
        "colab_type": "code",
        "colab": {}
      },
      "source": [
        "import seaborn as sns"
      ],
      "execution_count": 0,
      "outputs": []
    },
    {
      "cell_type": "code",
      "metadata": {
        "id": "ZlSbiGhQX8el",
        "colab_type": "code",
        "colab": {},
        "outputId": "6dfde978-e5c8-4f18-85e1-ce834dce9dfc"
      },
      "source": [
        "sns.heatmap(all_data.corr())"
      ],
      "execution_count": 0,
      "outputs": [
        {
          "output_type": "execute_result",
          "data": {
            "text/plain": [
              "<matplotlib.axes._subplots.AxesSubplot at 0x13cdaff50>"
            ]
          },
          "metadata": {
            "tags": []
          },
          "execution_count": 262
        },
        {
          "output_type": "display_data",
          "data": {
            "image/png": "[encoded data removed]",
            "text/plain": [
              "<Figure size 432x288 with 2 Axes>"
            ]
          },
          "metadata": {
            "tags": [],
            "needs_background": "light"
          }
        }
      ]
    },
    {
      "cell_type": "code",
      "metadata": {
        "id": "U3L2nErvX8eo",
        "colab_type": "code",
        "colab": {}
      },
      "source": [
        ""
      ],
      "execution_count": 0,
      "outputs": []
    }
  ]
}